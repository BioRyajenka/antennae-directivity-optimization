{
 "cells": [
  {
   "cell_type": "code",
   "execution_count": 20,
   "metadata": {},
   "outputs": [],
   "source": [
    "import requests\n",
    "from joblib import Parallel, delayed\n",
    "import matplotlib\n",
    "matplotlib.use('TkAgg')\n",
    "import matplotlib.pyplot\n"
   ]
  },
  {
   "cell_type": "code",
   "execution_count": 21,
   "metadata": {},
   "outputs": [
    {
     "name": "stdout",
     "output_type": "stream",
     "text": [
      "[Parallel(n_jobs=2)]: Using backend LokyBackend with 2 concurrent workers.\n",
      "[Parallel(n_jobs=2)]: Done   1 tasks      | elapsed:    0.7s\n",
      "[Parallel(n_jobs=2)]: Done   1 out of   1 | elapsed:    0.7s finished\n"
     ]
    },
    {
     "data": {
      "text/plain": [
       "[<Response [200]>]"
      ]
     },
     "execution_count": 21,
     "metadata": {},
     "output_type": "execute_result"
    }
   ],
   "source": [
    "Parallel(2, verbose=100)([delayed(requests.get)('http://google.com')])"
   ]
  },
  {
   "cell_type": "code",
   "execution_count": 2,
   "metadata": {},
   "outputs": [],
   "source": [
    "import numpy as np\n",
    "\n",
    "data = np.random.random((int(1e7),))\n",
    "window_size = int(5e5)\n",
    "slices = [slice(start, start + window_size)\n",
    "          for start in range(0, data.size - window_size, int(1e5))]\n",
    "\n",
    "import time\n",
    "\n",
    "\n",
    "def slow_mean(data, sl):\n",
    "    \"\"\"Simulate a time consuming processing.\"\"\"\n",
    "    time.sleep(0.01)\n",
    "    return data[sl].mean()"
   ]
  },
  {
   "cell_type": "code",
   "execution_count": 4,
   "metadata": {},
   "outputs": [
    {
     "name": "stdout",
     "output_type": "stream",
     "text": [
      "\n",
      "Elapsed time computing the average of couple of slices 1.04 s\n"
     ]
    }
   ],
   "source": [
    "tic = time.time()\n",
    "results = [slow_mean(data, sl) for sl in slices]\n",
    "toc = time.time()\n",
    "print('\\nElapsed time computing the average of couple of slices {:.2f} s'.format(toc - tic))"
   ]
  },
  {
   "cell_type": "code",
   "execution_count": 6,
   "metadata": {},
   "outputs": [
    {
     "name": "stdout",
     "output_type": "stream",
     "text": [
      "\n",
      "Elapsed time computing the average of couple of slices 0.80 s\n"
     ]
    }
   ],
   "source": [
    "from joblib import Parallel, delayed\n",
    "\n",
    "tic = time.time()\n",
    "results = Parallel(n_jobs=2)(delayed(slow_mean)(data, sl) for sl in slices)\n",
    "toc = time.time()\n",
    "print('\\nElapsed time computing the average of couple of slices {:.2f} s'.format(toc - tic))"
   ]
  },
  {
   "cell_type": "code",
   "execution_count": 7,
   "metadata": {},
   "outputs": [
    {
     "name": "stdout",
     "output_type": "stream",
     "text": [
      "\n",
      "Elapsed time computing the average of couple of slices 0.69 s\n",
      "\n"
     ]
    }
   ],
   "source": [
    "import os\n",
    "from joblib import dump, load\n",
    "\n",
    "folder = './joblib_memmap'\n",
    "try:\n",
    "    os.mkdir(folder)\n",
    "except FileExistsError:\n",
    "    pass\n",
    "\n",
    "data_filename_memmap = os.path.join(folder, 'data_memmap')\n",
    "dump(data, data_filename_memmap)\n",
    "data = load(data_filename_memmap, mmap_mode='r')\n",
    "\n",
    "tic = time.time()\n",
    "results = Parallel(n_jobs=2)(delayed(slow_mean)(data, sl) for sl in slices)\n",
    "toc = time.time()\n",
    "print('\\nElapsed time computing the average of couple of slices {:.2f} s\\n'.format(toc - tic))"
   ]
  },
  {
   "cell_type": "code",
   "execution_count": 8,
   "metadata": {},
   "outputs": [],
   "source": [
    "def slow_mean_write_output(data, sl, output, idx):\n",
    "    \"\"\"Simulate a time consuming processing.\"\"\"\n",
    "    time.sleep(0.005)\n",
    "    res_ = data[sl].mean()\n",
    "    print(\"[Worker %d] Mean for slice %d is %f\" % (os.getpid(), idx, res_))\n",
    "    output[idx] = res_\n",
    "output_filename_memmap = os.path.join(folder, 'output_memmap')\n",
    "output = np.memmap(output_filename_memmap, dtype=data.dtype, shape=len(slices), mode='w+')\n",
    "data = load(data_filename_memmap, mmap_mode='r')"
   ]
  },
  {
   "cell_type": "code",
   "execution_count": 14,
   "metadata": {},
   "outputs": [
    {
     "name": "stdout",
     "output_type": "stream",
     "text": [
      "Equal: True\n"
     ]
    }
   ],
   "source": [
    "Parallel(n_jobs=2)(delayed(slow_mean_write_output)(data, sl, output, idx)\n",
    "                   for idx, sl in enumerate(slices))\n",
    "print(\"Equal: {}\".format(np.array_equal(np.array(results), output)))"
   ]
  }
 ],
 "metadata": {
  "kernelspec": {
   "display_name": "Python 2",
   "language": "python",
   "name": "python2"
  },
  "language_info": {
   "codemirror_mode": {
    "name": "ipython",
    "version": 2
   },
   "file_extension": ".py",
   "mimetype": "text/x-python",
   "name": "python",
   "nbconvert_exporter": "python",
   "pygments_lexer": "ipython2",
   "version": "2.7.15+"
  }
 },
 "nbformat": 4,
 "nbformat_minor": 2
}
