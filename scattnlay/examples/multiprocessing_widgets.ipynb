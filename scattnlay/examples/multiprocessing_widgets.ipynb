{
 "cells": [
  {
   "cell_type": "markdown",
   "metadata": {},
   "source": [
    "# User friendly multiprocessing in Jupyter with ipywidgets"
   ]
  },
  {
   "cell_type": "markdown",
   "metadata": {},
   "source": [
    "##### by Micah ([@micahscopes](http://wondering.xyz))\n",
    "11/15/2017"
   ]
  },
  {
   "cell_type": "markdown",
   "metadata": {},
   "source": [
    "##### A stoppable `multiprocessing.Process` subclass that displays its status:"
   ]
  },
  {
   "cell_type": "code",
   "execution_count": 1,
   "metadata": {
    "run_control": {
     "frozen": false,
     "read_only": false
    }
   },
   "outputs": [],
   "source": [
    "from multiprocessing import Process, Event\n",
    "from ipywidgets import Output\n",
    "from IPython.display import display\n",
    "from time import sleep\n",
    "\n",
    "class ProcessWithStatus(Process):\n",
    "    def __init__(self):\n",
    "        self.output = Output()\n",
    "        self.exit = Event()\n",
    "        self.exited = Event()\n",
    "        super().__init__()\n",
    "        \n",
    "        with self.output:\n",
    "            print(self)\n",
    "        \n",
    "    def status(self):\n",
    "        display(self.output)\n",
    "    \n",
    "    def start(self):            \n",
    "        super().start()\n",
    "        with self.output:\n",
    "            print(self)\n",
    "            print('running...')\n",
    "    \n",
    "    def stop(self):\n",
    "#         with self.output:\n",
    "        with self.output:\n",
    "            print('letting work finish before stopping...')\n",
    "        self.exit.set()\n",
    "        \n",
    "        self.exited.wait()\n",
    "        sleep(0.1) # Need to wait a little bit before the status is `stopped`\n",
    "        with self.output:\n",
    "            print(self)\n",
    "    \n",
    "    def work(self):\n",
    "        sleep(5)\n",
    "        pass\n",
    "    \n",
    "    def run(self):\n",
    "        while not self.exit.is_set():\n",
    "            # do the work\n",
    "            self.work()\n",
    "        \n",
    "        # when the work is done, signal that we are finished\n",
    "        self.exited.set()\n",
    "\n",
    "p = ProcessWithStatus()\n"
   ]
  },
  {
   "cell_type": "code",
   "execution_count": 2,
   "metadata": {},
   "outputs": [
    {
     "data": {
      "application/vnd.jupyter.widget-view+json": {
       "model_id": "34586186376c4f3aadf3290ed7d69691",
       "version_major": 2,
       "version_minor": 0
      },
      "text/plain": [
       "Output(outputs=({'output_type': 'stream', 'text': '<ProcessWithStatus(ProcessWithStatus-1, initial)>\\n', 'name…"
      ]
     },
     "metadata": {},
     "output_type": "display_data"
    }
   ],
   "source": [
    "p.status()"
   ]
  },
  {
   "cell_type": "code",
   "execution_count": 3,
   "metadata": {},
   "outputs": [],
   "source": [
    "p.start()"
   ]
  },
  {
   "cell_type": "code",
   "execution_count": 4,
   "metadata": {},
   "outputs": [],
   "source": [
    "p.stop()"
   ]
  },
  {
   "cell_type": "code",
   "execution_count": 6,
   "metadata": {},
   "outputs": [
    {
     "data": {
      "application/vnd.jupyter.widget-view+json": {
       "model_id": "7f0973bcfe9b487d98430135df8cb529",
       "version_major": 2,
       "version_minor": 0
      },
      "text/plain": [
       "Output(outputs=({'output_type': 'stream', 'name': 'stdout', 'text': '<ProcessWithStatus(ProcessWithStatus-1, i…"
      ]
     },
     "metadata": {},
     "output_type": "display_data"
    }
   ],
   "source": [
    "p.status()"
   ]
  },
  {
   "cell_type": "markdown",
   "metadata": {},
   "source": [
    "##### Adding start and stop buttons:"
   ]
  },
  {
   "cell_type": "code",
   "execution_count": 5,
   "metadata": {},
   "outputs": [],
   "source": [
    "from ipywidgets import Button\n",
    "\n",
    "class ProcessWithControls(ProcessWithStatus):\n",
    "    def __init__(self):\n",
    "        self.start_button = Button(description='start')\n",
    "        self.start_button.on_click(lambda evt: self.start())\n",
    "        self.stop_button = Button(description='stop')\n",
    "        self.stop_button.on_click(lambda evt: self.stop())\n",
    "        \n",
    "        super().__init__()\n",
    "        \n",
    "    def controls(self):\n",
    "        display(self.start_button)\n",
    "        display(self.stop_button)\n",
    "        \n",
    "    def control_panel(self):\n",
    "        self.controls()\n",
    "        self.status()\n",
    "    \n",
    "        \n",
    "    "
   ]
  },
  {
   "cell_type": "code",
   "execution_count": 6,
   "metadata": {},
   "outputs": [
    {
     "data": {
      "application/vnd.jupyter.widget-view+json": {
       "model_id": "533a4f743cf549a6b4d12fc908e058fd",
       "version_major": 2,
       "version_minor": 0
      },
      "text/plain": [
       "Output()"
      ]
     },
     "metadata": {},
     "output_type": "display_data"
    }
   ],
   "source": [
    "p = ProcessWithControls()\n",
    "p.status()"
   ]
  },
  {
   "cell_type": "code",
   "execution_count": 7,
   "metadata": {},
   "outputs": [
    {
     "data": {
      "application/vnd.jupyter.widget-view+json": {
       "model_id": "f1a065e74780415c932b944c68d70360",
       "version_major": 2,
       "version_minor": 0
      },
      "text/plain": [
       "Button(description='start', style=ButtonStyle())"
      ]
     },
     "metadata": {},
     "output_type": "display_data"
    },
    {
     "data": {
      "application/vnd.jupyter.widget-view+json": {
       "model_id": "f9f49860612846a0ba672d7c354a4e16",
       "version_major": 2,
       "version_minor": 0
      },
      "text/plain": [
       "Button(description='stop', style=ButtonStyle())"
      ]
     },
     "metadata": {},
     "output_type": "display_data"
    }
   ],
   "source": [
    "p.controls()"
   ]
  },
  {
   "cell_type": "code",
   "execution_count": 11,
   "metadata": {},
   "outputs": [
    {
     "data": {
      "application/vnd.jupyter.widget-view+json": {
       "model_id": "3a376c6d24754cbd83369047d023c2fa",
       "version_major": 2,
       "version_minor": 0
      },
      "text/plain": [
       "Button(description='start', style=ButtonStyle())"
      ]
     },
     "metadata": {},
     "output_type": "display_data"
    },
    {
     "data": {
      "application/vnd.jupyter.widget-view+json": {
       "model_id": "1d6e372731094c9ab242d35532c9595c",
       "version_major": 2,
       "version_minor": 0
      },
      "text/plain": [
       "Button(description='stop', style=ButtonStyle())"
      ]
     },
     "metadata": {},
     "output_type": "display_data"
    },
    {
     "data": {
      "application/vnd.jupyter.widget-view+json": {
       "model_id": "220ab2af22d04cbb935b35bd71ec8d57",
       "version_major": 2,
       "version_minor": 0
      },
      "text/plain": [
       "Output(outputs=({'output_type': 'stream', 'name': 'stdout', 'text': '<ProcessWithControls(ProcessWithControls-…"
      ]
     },
     "metadata": {},
     "output_type": "display_data"
    }
   ],
   "source": [
    "p.control_panel()"
   ]
  },
  {
   "cell_type": "markdown",
   "metadata": {},
   "source": [
    "##### P.S. there's no reason you couldn't do something like this with multiple threads!"
   ]
  },
  {
   "cell_type": "code",
   "execution_count": null,
   "metadata": {
    "collapsed": true
   },
   "outputs": [],
   "source": []
  },
  {
   "cell_type": "code",
   "execution_count": null,
   "metadata": {},
   "outputs": [],
   "source": [
    "import pyformulas as pf\n",
    "import matplotlib.pyplot as plt\n",
    "import numpy as np\n",
    "import time\n",
    "\n",
    "fig = plt.figure()\n",
    "\n",
    "canvas = np.zeros((480,640))\n",
    "screen = pf.screen(canvas, 'Sinusoid')\n",
    "\n",
    "start = time.time()\n",
    "for _ in range(100):\n",
    "    now = time.time() - start\n",
    "\n",
    "    x = np.linspace(now-2, now, 100)\n",
    "    y = np.sin(2*np.pi*x) + np.sin(3*np.pi*x)\n",
    "    plt.xlim(now-2,now+1)\n",
    "    plt.ylim(-3,3)\n",
    "    plt.plot(x, y, c='black')\n",
    "\n",
    "    # If we haven't already shown or saved the plot, then we need to draw the figure first...\n",
    "    fig.canvas.draw()\n",
    "\n",
    "    image = np.fromstring(fig.canvas.tostring_rgb(), dtype=np.uint8, sep='')\n",
    "    image = image.reshape(fig.canvas.get_width_height()[::-1] + (3,))\n",
    "\n",
    "    screen.update(image)\n",
    "\n",
    "screen.close()"
   ]
  },
  {
   "cell_type": "code",
   "execution_count": 32,
   "metadata": {},
   "outputs": [],
   "source": [
    "from multiprocessing import Process, Event\n",
    "from ipywidgets import Output\n",
    "from IPython.display import display\n",
    "from time import sleep\n",
    "\n",
    "class ProcessWithStatus(Process):\n",
    "    def __init__(self):\n",
    "        self.output = Output()\n",
    "        self.exit = Event()\n",
    "        self.exited = Event()\n",
    "        super().__init__()\n",
    "        \n",
    "        with self.output:\n",
    "            print(self)\n",
    "        \n",
    "    def status(self):\n",
    "        display(self.output)\n",
    "    \n",
    "    def start(self):            \n",
    "        super().start()\n",
    "        with self.output:\n",
    "            print(self)\n",
    "            print('running...')\n",
    "    \n",
    "    def stop(self):\n",
    "#         with self.output:\n",
    "        with self.output:\n",
    "            print('letting work finish before stopping...')\n",
    "        self.exit.set()\n",
    "        \n",
    "        self.exited.wait()\n",
    "        sleep(0.1) # Need to wait a little bit before the status is `stopped`\n",
    "        with self.output:\n",
    "            print(self)\n",
    "    \n",
    "    def work(self):\n",
    "        sleep(5)\n",
    "        pass\n",
    "    \n",
    "    def run(self):\n",
    "        with self.output: print(\"1\")\n",
    "        self.fig = plt.figure()\n",
    "        with self.output: print(\"1.1\")\n",
    "        self.canvas = np.zeros((480,640))\n",
    "        with self.output: print(\"1.2\")\n",
    "        self.screen = pf.screen(canvas, 'Sinusoid')\n",
    "        with self.output: print(\"1.3\")\n",
    "        start = time.time()\n",
    "        with self.output:\n",
    "            print(\"2\")\n",
    "        while not self.exit.is_set():\n",
    "            with self.output:\n",
    "                print(\"3\")\n",
    "            now = time.time() - start\n",
    "            x = np.linspace(now-2, now, 100)\n",
    "            y = np.sin(2*np.pi*x) + np.sin(3*np.pi*x)\n",
    "            plt.xlim(now-2,now+1)\n",
    "            plt.ylim(-3,3)\n",
    "            with self.output:\n",
    "                print(\"4\")\n",
    "            plt.plot(x, y, c='black')\n",
    "            with self.output:\n",
    "                print(\"5\")\n",
    "\n",
    "            # If we haven't already shown or saved the plot, then we need to draw the figure first...\n",
    "            self.fig.canvas.draw()\n",
    "            with self.output:\n",
    "                print(\"6\")\n",
    "\n",
    "            image = np.fromstring(self.fig.canvas.tostring_rgb(), dtype=np.uint8, sep='')\n",
    "            image = image.reshape(self.fig.canvas.get_width_height()[::-1] + (3,))\n",
    "            with self.output:\n",
    "                print(\"7\")\n",
    "\n",
    "            self.screen.update(image)\n",
    "            with self.output:\n",
    "                print(\"8\")\n",
    "        self.screen.close()\n",
    "        \n",
    "        # when the work is done, signal that we are finished\n",
    "        self.exited.set()\n",
    "\n",
    "p = ProcessWithStatus()\n"
   ]
  },
  {
   "cell_type": "code",
   "execution_count": 33,
   "metadata": {},
   "outputs": [
    {
     "name": "stdout",
     "output_type": "stream",
     "text": [
      "1\n",
      "1.1\n"
     ]
    }
   ],
   "source": [
    "p.start()"
   ]
  },
  {
   "cell_type": "code",
   "execution_count": 39,
   "metadata": {},
   "outputs": [
    {
     "data": {
      "application/vnd.jupyter.widget-view+json": {
       "model_id": "da59c7db3f0b4a85b32faa7c30654a76",
       "version_major": 2,
       "version_minor": 0
      },
      "text/plain": [
       "Output(outputs=({'output_type': 'stream', 'text': '<ProcessWithStatus(ProcessWithStatus-6, initial)>\\n<Process…"
      ]
     },
     "metadata": {},
     "output_type": "display_data"
    }
   ],
   "source": [
    "p.status()"
   ]
  },
  {
   "cell_type": "code",
   "execution_count": null,
   "metadata": {},
   "outputs": [],
   "source": [
    "p.stop()"
   ]
  }
 ],
 "metadata": {
  "kernelspec": {
   "display_name": "Python 3",
   "language": "python",
   "name": "python3"
  },
  "language_info": {
   "codemirror_mode": {
    "name": "ipython",
    "version": 3
   },
   "file_extension": ".py",
   "mimetype": "text/x-python",
   "name": "python",
   "nbconvert_exporter": "python",
   "pygments_lexer": "ipython3",
   "version": "3.6.7"
  },
  "latex_envs": {
   "LaTeX_envs_menu_present": true,
   "autocomplete": true,
   "bibliofile": "biblio.bib",
   "cite_by": "apalike",
   "current_citInitial": 1,
   "eqLabelWithNumbers": true,
   "eqNumInitial": 1,
   "hotkeys": {
    "equation": "Ctrl-E",
    "itemize": "Ctrl-I"
   },
   "labels_anchors": false,
   "latex_user_defs": false,
   "report_style_numbering": false,
   "user_envs_cfg": false
  }
 },
 "nbformat": 4,
 "nbformat_minor": 2
}
