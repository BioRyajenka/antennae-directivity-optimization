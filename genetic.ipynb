{
 "cells": [
  {
   "cell_type": "code",
   "execution_count": 1,
   "metadata": {},
   "outputs": [],
   "source": [
    "from __future__ import division\n",
    "\n",
    "from math import sqrt, cos, sin, acos, pi, atan2\n",
    "from matplotlib import cm\n",
    "from matplotlib import patches\n",
    "from matplotlib.colors import LogNorm\n",
    "from matplotlib.path import Path\n",
    "from mpl_toolkits.mplot3d import Axes3D\n",
    "import matplotlib.pyplot as plt\n",
    "import numpy as np\n",
    "\n",
    "import sphereml\n",
    "from scipy.optimize import differential_evolution\n",
    "from pyfde import JADE\n",
    "%run algorithms/genetic.py\n",
    "import lcmaes\n",
    "from fitness_function import evaluate\n",
    "\n",
    "import time\n",
    "from joblib import Parallel, delayed\n",
    "from persistence import save, load\n",
    "import pyformulas as pf\n",
    "\n",
    "factor=1.3\t\t\t\t\t# area of plot"
   ]
  },
  {
   "cell_type": "code",
   "execution_count": 2,
   "metadata": {},
   "outputs": [],
   "source": [
    "limitsdict = {'r_limits':(10,120), 'm_limits':(3, 10), 'mj_limits':(0, 0.4)}\n",
    "\n",
    "def plot_hist(hist, label, linestyle='-'):\n",
    "    histarr = np.array(hist)\n",
    "    xs,ys = histarr[:,0],histarr[:,1]\n",
    "    plt.plot(xs, ys, linestyle=linestyle, label=label)"
   ]
  },
  {
   "cell_type": "code",
   "execution_count": 3,
   "metadata": {},
   "outputs": [],
   "source": [
    "def run_evaluation(algo, n_it, r_limits, m_limits, mj_limits, layers, evaluate=evaluate, \n",
    "                   popsize=None, sbbx_eta=1.0, elitepercent=.1,\n",
    "                   log=True, seed=283636):\n",
    "    def helper(ind):\n",
    "        helper.calls += 1\n",
    "        return evaluate(ind, layers=layers)\n",
    "    helper.calls = 0\n",
    "    \n",
    "    hist = []\n",
    "    limits = [r_limits]*layers+[m_limits,mj_limits]*layers+[(0.1, r_limits[-1]*factor)]\n",
    "    \n",
    "    if popsize is None: popsize = 5*len(limits)\n",
    "    if popsize > n_it: raise AssertionError(f\"popsize({popsize}) should be < n_it({n_it})\")\n",
    "    \n",
    "    def gen_callback(fitness):\n",
    "        hist.append((helper.calls, fitness))\n",
    "        #print(\"hist: {} {}\".format(len(hist), hist[-1]))\n",
    "        if helper.calls > n_it:\n",
    "            return True\n",
    "    \n",
    "    if algo == 'JADE':\n",
    "        solver = JADE(helper, n_dim=len(limits), n_pop=popsize, limits=limits)\n",
    "        for _ in range(int(n_it/popsize)):\n",
    "            best, fit = solver.run(n_it=1)\n",
    "            hist.append((helper.calls, fit))\n",
    "            \n",
    "    elif algo == 'DE':\n",
    "        def de_callback(xk, convergence):\n",
    "            hist.append((helper.calls, -func(magic_cast(xk))))\n",
    "            if helper.calls > n_it:\n",
    "                return True\n",
    "        \n",
    "        result = differential_evolution(lambda t: -helper(t), limits,\n",
    "                               callback=de_callback, popsize=popsize, maxiter=n_it)\n",
    "        best, fit = result.x, -result.fun\n",
    "    \n",
    "    elif algo == 'genetic':\n",
    "        best, fit = genetic(helper,\n",
    "                            limits=limits, popsize=popsize, generations=n_it, \n",
    "                            sbbx_eta=sbbx_eta, elitepercent=elitepercent, \n",
    "                            log=False, callback=gen_callback)\n",
    "    elif algo == '1+1':\n",
    "        best, fit = one_plus_one(helper, limits=limits, log=False, callback=gen_callback)\n",
    "    elif algo == 'CMA':\n",
    "        str_algo=b'acmaes'\n",
    "        # the optimum should better not be far away from the interval [x0 - sigma0, x0 + sigma0] in each dimension\n",
    "        \n",
    "        lb = np.array(list(map(lambda t: t[0], limits)))\n",
    "        rb = np.array(list(map(lambda t: t[1], limits)))\n",
    "        x0 = list((rb + lb) / 2)\n",
    "        #x0 = [7.30517923e+01, 6.80587508e+01, 6.76449791e+01, 1.20000000e+02,\n",
    "        #      2.25222077e+01, 4.52804791e+00, 0.00000000e+00, 3.97006307e(+00,\n",
    "        #      1.17444767e-01, 7.40650614e+00, 1.63541086e-01, 3.86546747e+00,\n",
    "        #      1.18559092e-02, 9.37523459e+00, 3.06198400e-01, 1.42895581e+02]\n",
    "        sigma0 = (rb.max() - lb.min()) / 3\n",
    "        #sigma0 = 10\n",
    "        print(f'sigma is {sigma0}')\n",
    "\n",
    "        # without scaling (see lcmaes_interface.py). affects both parameters and optimization function\n",
    "        gp = lcmaes.make_genopheno_pwqb(list(lb), list(rb), len(limits))\n",
    "        p = lcmaes.make_parameters_pwqb(x0,sigma0,gp)\n",
    "        p.set_str_algo(str_algo)\n",
    "        #p.set_quiet(False)\n",
    "        objfunc = lcmaes.fitfunc_pbf.from_callable(lambda x, n: -helper(x))\n",
    "        \n",
    "        def pfunc_raw(fitness):\n",
    "            if np.isnan(fitness):\n",
    "                return 0\n",
    "            hist.append((helper.calls, -fitness))\n",
    "            if helper.calls > n_it:\n",
    "                #print(\"STOP\")\n",
    "                return 1\n",
    "            return 0\n",
    "        \n",
    "        pfunc = lcmaes.pfunc_pbf.from_callable(pfunc_raw)\n",
    "        \n",
    "        results = lcmaes.pcmaes_pwqb2(objfunc, p, pfunc)\n",
    "        bestie = results.best_candidate()\n",
    "        \n",
    "        fit, best = -bestie.get_fvalue(), lcmaes.get_candidate_x(bestie)\n",
    "    else:\n",
    "        raise AssertionError(\"Unknown algo\")\n",
    "    \n",
    "    if log:\n",
    "        print(\"{}: best {} for ind {}\".format(algo, fit, best))\n",
    "    return best, fit, hist\n",
    "\n",
    "def run_evaluations(runs=50, *args, **kwargs):\n",
    "    res = []\n",
    "    for run in range(runs):\n",
    "        _, _, hist = run_evaluation(*args, **kwargs)\n",
    "        res.append(hist)\n",
    "    return np.array(res)"
   ]
  },
  {
   "cell_type": "code",
   "execution_count": 7,
   "metadata": {},
   "outputs": [],
   "source": [
    "best, _, hist = run_evaluation('JADE', n_it=1000, layers=2, sbbx_eta=0.5, log=False, **limitsdict)"
   ]
  },
  {
   "cell_type": "code",
   "execution_count": 8,
   "metadata": {},
   "outputs": [
    {
     "data": {
      "text/plain": [
       "array([4.32457046e+01, 1.19756852e+02, 7.15328279e+00, 1.28869179e-01,\n",
       "       1.00000000e+01, 6.24843803e-02, 1.30965740e+02])"
      ]
     },
     "execution_count": 8,
     "metadata": {},
     "output_type": "execute_result"
    }
   ],
   "source": [
    "best"
   ]
  },
  {
   "cell_type": "code",
   "execution_count": 28,
   "metadata": {},
   "outputs": [],
   "source": []
  },
  {
   "cell_type": "code",
   "execution_count": 12,
   "metadata": {},
   "outputs": [
    {
     "name": "stdout",
     "output_type": "stream",
     "text": [
      "sbbx_eta 0.001\n",
      "sbbx_eta 0.01\n",
      "sbbx_eta 0.1\n",
      "sbbx_eta 0.5\n",
      "sbbx_eta 1.0\n",
      "sbbx_eta 1.5\n",
      "sbbx_eta 5.0\n",
      "sbbx_eta 10.0\n",
      "sbbx_eta 100.0\n",
      "CPU times: user 3h 10min 15s, sys: 14.6 s, total: 3h 10min 29s\n",
      "Wall time: 3h 9min 38s\n"
     ]
    }
   ],
   "source": [
    "%%time\n",
    "N_IT = 100000 # 5 min\n",
    "\n",
    "res = {}\n",
    "for sbbx_eta in [0.001, .01, .1, .5, 1.0, 1.5, 5.0, 10.0, 100.0]:\n",
    "    print(f\"sbbx_eta {sbbx_eta}\")\n",
    "    r = run_evaluations(runs=4, algo='genetic', n_it=N_IT, sbbx_eta=sbbx_eta, layers=2, log=False, **limitsdict)\n",
    "\n",
    "    max_ = r[0]\n",
    "    for cand in r:\n",
    "        if cand[-1,1] > max_[-1,1]:\n",
    "            max_=cand\n",
    "\n",
    "    error = r.max(axis=0) - r.mean(axis=0)\n",
    "\n",
    "    res[sbbx_eta] = (max_, error[:,1])\n",
    "        \n",
    "save(res, \"results/genetic/sbbx_eta\")"
   ]
  },
  {
   "cell_type": "code",
   "execution_count": 8,
   "metadata": {},
   "outputs": [
    {
     "name": "stdout",
     "output_type": "stream",
     "text": [
      "elitepercent 0.01\n",
      "elitepercent 0.0\n",
      "elitepercent 0.1\n",
      "CPU times: user 1h 7min 29s, sys: 846 ms, total: 1h 7min 30s\n",
      "Wall time: 1h 7min 31s\n"
     ]
    }
   ],
   "source": [
    "%%time\n",
    "N_IT = 100000 # 5 min\n",
    "\n",
    "res = {}\n",
    "for elitepercent in [.01, .0, .1]:\n",
    "    print(f\"elitepercent {elitepercent}\")\n",
    "    r = run_evaluations(runs=4, algo='genetic', n_it=N_IT, elitepercent=elitepercent, layers=2, log=False, **limitsdict)\n",
    "\n",
    "    max_ = r[0]\n",
    "    for cand in r:\n",
    "        if cand[-1,1] > max_[-1,1]:\n",
    "            max_=cand\n",
    "\n",
    "    error = r.max(axis=0) - r.mean(axis=0)\n",
    "\n",
    "    res[elitepercent] = (max_, error[:,1])\n",
    "        \n",
    "save(res, \"results/genetic/elite\")"
   ]
  },
  {
   "cell_type": "code",
   "execution_count": 5,
   "metadata": {},
   "outputs": [
    {
     "name": "stdout",
     "output_type": "stream",
     "text": [
      "popsize 21\n",
      "popsize 35\n",
      "popsize 49\n",
      "popsize 70\n",
      "CPU times: user 1h 25min 48s, sys: 4.27 s, total: 1h 25min 53s\n",
      "Wall time: 1h 25min 37s\n"
     ]
    }
   ],
   "source": [
    "%%time\n",
    "N_IT = 100000 # 5 min\n",
    "\n",
    "res = {}\n",
    "layers=2\n",
    "for popsize in [3 * (layers * 3 + 1), 5 * (layers * 3 + 1), 7 * (layers * 3 + 1), 10 * (layers * 3 + 1)]:\n",
    "    print(f\"popsize {popsize}\")\n",
    "    r = run_evaluations(runs=4, algo='genetic', n_it=N_IT, popsize=popsize, layers=layers, log=False, **limitsdict)\n",
    "\n",
    "    max_ = r[0]\n",
    "    for cand in r:\n",
    "        if cand[-1,1] > max_[-1,1]:\n",
    "            max_=cand\n",
    "\n",
    "    error = r.max(axis=0) - r.mean(axis=0)\n",
    "\n",
    "    res[popsize] = (max_, error[:,1])\n",
    "        \n",
    "save(res, \"results/genetic/popsize\")"
   ]
  },
  {
   "cell_type": "code",
   "execution_count": 6,
   "metadata": {},
   "outputs": [
    {
     "data": {
      "image/png": "[encoded data removed]",
      "text/plain": [
       "<Figure size 1152x576 with 1 Axes>"
      ]
     },
     "metadata": {
      "needs_background": "light"
     },
     "output_type": "display_data"
    }
   ],
   "source": [
    "#res = load(\"results/genetic/sbbx_eta\") # best are 0.1, 100, 0.001\n",
    "res = load(\"results/genetic/popsize\")\n",
    "#res = load(\"results/genetic/elite\") # best is 0.1\n",
    "plt.figure(figsize=(16,8))\n",
    "#for layers in res.keys():\n",
    "layers=2\n",
    "for key in res.keys():\n",
    "    xs = res[key][0][:,0]\n",
    "    ys = res[key][0][:,1]\n",
    "    plt.plot(xs, ys, label=key)\n",
    "plt.legend();"
   ]
  },
  {
   "cell_type": "code",
   "execution_count": null,
   "metadata": {},
   "outputs": [],
   "source": []
  }
 ],
 "metadata": {
  "kernelspec": {
   "display_name": "Python 3",
   "language": "python",
   "name": "python3"
  },
  "language_info": {
   "codemirror_mode": {
    "name": "ipython",
    "version": 3
   },
   "file_extension": ".py",
   "mimetype": "text/x-python",
   "name": "python",
   "nbconvert_exporter": "python",
   "pygments_lexer": "ipython3",
   "version": "3.6.9"
  }
 },
 "nbformat": 4,
 "nbformat_minor": 2
}
